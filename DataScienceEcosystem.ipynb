{
 "cells": [
  {
   "cell_type": "markdown",
   "id": "a285402b-34b3-4481-a27a-e8d3a5e32d8a",
   "metadata": {},
   "source": [
    "# Exercise2 - H1: Data Science Tools and Ecosystem\n",
    "## H2: Data Science Tools and Ecosystem\n",
    "Text: Data Science Tools and Ecosystem"
   ]
  },
  {
   "cell_type": "markdown",
   "id": "4c5ed96b-6666-46fd-8bb5-d25e490f14c9",
   "metadata": {},
   "source": [
    "Ex3: In this notebook, Data Science Tools and Ecosystem are summarized."
   ]
  },
  {
   "cell_type": "markdown",
   "id": "761ea0be-8deb-460a-9bee-ffa176cc81b2",
   "metadata": {},
   "source": [
    "Ex4: Some of the popular languages that Data Scientists use are:\n",
    "1. R\n",
    "2. Python\n",
    "3. Ruby\n",
    "4. SQL"
   ]
  },
  {
   "cell_type": "markdown",
   "id": "f968ad47-a5ed-4116-90cf-634d22c26922",
   "metadata": {},
   "source": [
    "Ex5: Some Python Libraries are:\n",
    "* pandas\n",
    "* numpy\n",
    "* matplotlib"
   ]
  },
  {
   "cell_type": "markdown",
   "id": "336158c8-0b66-4f44-873b-4ba255d5d760",
   "metadata": {},
   "source": [
    "Ex6:\n",
    "| Data Science Tools |\n",
    "|:--------------------|\n",
    "| Spyder           |\n",
    "| R-Studio             |\n",
    "| VSCode             |"
   ]
  },
  {
   "cell_type": "markdown",
   "id": "477f127e-56c6-4018-9d0e-35ecb107e4c2",
   "metadata": {},
   "source": [
    "**Ex10: Objectives:**\n",
    "- Data Science Tools\n",
    "- Datahandling Tools\n",
    "- Big Data Infrastructure Software\n",
    "- github for Software deployment"
   ]
  },
  {
   "cell_type": "markdown",
   "id": "d029afec-20f8-44c1-81e3-b9a3124ab95b",
   "metadata": {},
   "source": [
    "### Ex7: Below are a few examples of evaluating arithmetic expressions in Python\n",
    "-----\n",
    "Ex8: This a simple arithmetic expression to mutiply then add integers:"
   ]
  },
  {
   "cell_type": "code",
   "execution_count": 3,
   "id": "1e518fa5-f175-4b6d-977a-c2a8077bfb5f",
   "metadata": {},
   "outputs": [
    {
     "data": {
      "text/plain": [
       "17"
      ]
     },
     "execution_count": 3,
     "metadata": {},
     "output_type": "execute_result"
    }
   ],
   "source": [
    "(3*4)+5"
   ]
  },
  {
   "cell_type": "markdown",
   "id": "9c8839b2-2ca7-4ab2-9831-957f847a3dc1",
   "metadata": {},
   "source": [
    "ex9: This will convert 200 minutes to hours by diving by 60:"
   ]
  },
  {
   "cell_type": "code",
   "execution_count": 11,
   "id": "c68e3701-a5b7-40bc-9670-67fb7b43f162",
   "metadata": {},
   "outputs": [
    {
     "data": {
      "text/plain": [
       "3.3333333333333335"
      ]
     },
     "execution_count": 11,
     "metadata": {},
     "output_type": "execute_result"
    }
   ],
   "source": [
    "hours=200/60\n",
    "hours"
   ]
  },
  {
   "cell_type": "markdown",
   "id": "133bfbe0-a2f5-4447-a93b-6d992feaa9a4",
   "metadata": {},
   "source": [
    "Ex11:\n",
    "## Author:\n",
    "Bjoern King"
   ]
  },
  {
   "cell_type": "code",
   "execution_count": null,
   "id": "d289e2bf-fc6a-4bcc-a520-94ac821b12be",
   "metadata": {},
   "outputs": [],
   "source": []
  }
 ],
 "metadata": {
  "kernelspec": {
   "display_name": "Python 3 (ipykernel)",
   "language": "python",
   "name": "python3"
  },
  "language_info": {
   "codemirror_mode": {
    "name": "ipython",
    "version": 3
   },
   "file_extension": ".py",
   "mimetype": "text/x-python",
   "name": "python",
   "nbconvert_exporter": "python",
   "pygments_lexer": "ipython3",
   "version": "3.12.7"
  }
 },
 "nbformat": 4,
 "nbformat_minor": 5
}
